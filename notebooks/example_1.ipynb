{
  "nbformat": 4,
  "nbformat_minor": 0,
  "metadata": {
    "colab": {
      "name": "example_1.ipynb",
      "provenance": [],
      "authorship_tag": "ABX9TyNDNyXxZHULJX36eF2yDEI5"
    },
    "kernelspec": {
      "name": "python3",
      "display_name": "Python 3"
    },
    "language_info": {
      "name": "python"
    }
  },
  "cells": []
}
